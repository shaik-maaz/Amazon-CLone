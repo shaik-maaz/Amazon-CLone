{
 "cells": [
  {
   "cell_type": "markdown",
   "id": "8c32c2d3-879b-48e0-b122-35bc6724dabb",
   "metadata": {},
   "source": [
    "**Order and Product analysis using Pandas**"
   ]
  },
  {
   "cell_type": "code",
   "execution_count": 121,
   "id": "5c1e40cd-27c6-4f4f-9b28-7017df24a4ef",
   "metadata": {},
   "outputs": [
    {
     "name": "stdout",
     "output_type": "stream",
     "text": [
      "<class 'pandas.core.frame.DataFrame'>\n",
      "RangeIndex: 2086 entries, 0 to 2085\n",
      "Data columns (total 5 columns):\n",
      " #   Column     Non-Null Count  Dtype  \n",
      "---  ------     --------------  -----  \n",
      " 0   OrderID    2086 non-null   int64  \n",
      " 1   ProductID  2086 non-null   int64  \n",
      " 2   UnitPrice  2086 non-null   float64\n",
      " 3   Quantity   2086 non-null   int64  \n",
      " 4   Discount   2086 non-null   float64\n",
      "dtypes: float64(2), int64(3)\n",
      "memory usage: 81.6 KB\n",
      "None\n",
      "<class 'pandas.core.frame.DataFrame'>\n",
      "RangeIndex: 77 entries, 0 to 76\n",
      "Data columns (total 10 columns):\n",
      " #   Column           Non-Null Count  Dtype  \n",
      "---  ------           --------------  -----  \n",
      " 0   ProductID        77 non-null     int64  \n",
      " 1   ProductName      77 non-null     object \n",
      " 2   SupplierID       77 non-null     int64  \n",
      " 3   CategoryID       77 non-null     int64  \n",
      " 4   QuantityPerUnit  77 non-null     object \n",
      " 5   UnitPrice        77 non-null     float64\n",
      " 6   UnitsInStock     77 non-null     int64  \n",
      " 7   UnitsOnOrder     77 non-null     int64  \n",
      " 8   ReorderLevel     77 non-null     int64  \n",
      " 9   Discontinued     77 non-null     bool   \n",
      "dtypes: bool(1), float64(1), int64(6), object(2)\n",
      "memory usage: 5.6+ KB\n",
      "None\n"
     ]
    }
   ],
   "source": [
    "import pandas as pd\n",
    "#read data from the excel files\n",
    "data = pd.read_excel('Order_Details.xlsx')\n",
    "data2 = pd.read_excel('Products.xlsx')\n",
    "#cheak the columns andalso weather the data contain any null values\n",
    "print(data.info()) \n",
    "print(data2.info())\n"
   ]
  },
  {
   "cell_type": "code",
   "execution_count": 68,
   "id": "3bf81eb0-b31d-4c3f-9268-26495d963039",
   "metadata": {},
   "outputs": [
    {
     "name": "stdout",
     "output_type": "stream",
     "text": [
      "<class 'pandas.core.frame.DataFrame'>\n",
      "RangeIndex: 2086 entries, 0 to 2085\n",
      "Data columns (total 14 columns):\n",
      " #   Column           Non-Null Count  Dtype  \n",
      "---  ------           --------------  -----  \n",
      " 0   OrderID          2086 non-null   int64  \n",
      " 1   ProductID        2086 non-null   int64  \n",
      " 2   UnitPrice_x      2086 non-null   float64\n",
      " 3   Quantity         2086 non-null   int64  \n",
      " 4   Discount         2086 non-null   float64\n",
      " 5   ProductName      2086 non-null   object \n",
      " 6   SupplierID       2086 non-null   int64  \n",
      " 7   CategoryID       2086 non-null   int64  \n",
      " 8   QuantityPerUnit  2086 non-null   object \n",
      " 9   UnitPrice_y      2086 non-null   float64\n",
      " 10  UnitsInStock     2086 non-null   int64  \n",
      " 11  UnitsOnOrder     2086 non-null   int64  \n",
      " 12  ReorderLevel     2086 non-null   int64  \n",
      " 13  Discontinued     2086 non-null   bool   \n",
      "dtypes: bool(1), float64(3), int64(8), object(2)\n",
      "memory usage: 214.0+ KB\n",
      "None\n"
     ]
    }
   ],
   "source": [
    "# merging the two tables using joins\n",
    "final_table=pd.merge(data,data2,on='ProductID',how='inner')\n",
    "print(final_table.info())\n"
   ]
  },
  {
   "cell_type": "markdown",
   "id": "42bb1747-68ec-49d1-8a00-486c4fd8eb2b",
   "metadata": {},
   "source": [
    "Here we only choose the coloumns we want \n",
    "and the final table contain\n",
    "    1.OrderID\n",
    "    2.ProductID\n",
    "    3.ProductName\n",
    "    4.UnitPrice\n",
    "    5.Quantity\n",
    "    6.Discount\n",
    "    7.Total_amount"
   ]
  },
  {
   "cell_type": "code",
   "execution_count": 69,
   "id": "c8c9836c-fecd-44be-93f2-4e09bc439d9d",
   "metadata": {},
   "outputs": [
    {
     "name": "stdout",
     "output_type": "stream",
     "text": [
      "   OrderID  ProductID  UnitPrice_x  Quantity  Discount ProductName  \\\n",
      "0    10285          1         14.4        45      0.20        Chai   \n",
      "1    10294          1         14.4        18      0.00        Chai   \n",
      "2    10317          1         14.4        20      0.00        Chai   \n",
      "3    10348          1         14.4        15      0.15        Chai   \n",
      "4    10354          1         14.4        12      0.00        Chai   \n",
      "\n",
      "   SupplierID  CategoryID     QuantityPerUnit  UnitPrice_y  UnitsInStock  \\\n",
      "0           1           1  10 boxes x 20 bags         18.0            39   \n",
      "1           1           1  10 boxes x 20 bags         18.0            39   \n",
      "2           1           1  10 boxes x 20 bags         18.0            39   \n",
      "3           1           1  10 boxes x 20 bags         18.0            39   \n",
      "4           1           1  10 boxes x 20 bags         18.0            39   \n",
      "\n",
      "   UnitsOnOrder  ReorderLevel  Discontinued  \n",
      "0             0            10         False  \n",
      "1             0            10         False  \n",
      "2             0            10         False  \n",
      "3             0            10         False  \n",
      "4             0            10         False  \n"
     ]
    }
   ],
   "source": [
    "\n",
    "df=pd.DataFrame(final_table)\n",
    "print(df.head())"
   ]
  },
  {
   "cell_type": "code",
   "execution_count": 70,
   "id": "1d529faf-16c2-4078-8b2c-4be7ed0ddce5",
   "metadata": {},
   "outputs": [],
   "source": [
    "df['Total_amount'] = df['UnitPrice_x']*df['Quantity'] - ( df['UnitPrice_x']*df['Quantity']*df['Discount'])\n"
   ]
  },
  {
   "cell_type": "code",
   "execution_count": 71,
   "id": "c4040062-9821-4842-a384-be42108f3d74",
   "metadata": {},
   "outputs": [
    {
     "name": "stdout",
     "output_type": "stream",
     "text": [
      "   OrderID  ProductID  UnitPrice_x  Quantity  Discount ProductName  \\\n",
      "0    10285          1         14.4        45      0.20        Chai   \n",
      "1    10294          1         14.4        18      0.00        Chai   \n",
      "2    10317          1         14.4        20      0.00        Chai   \n",
      "3    10348          1         14.4        15      0.15        Chai   \n",
      "4    10354          1         14.4        12      0.00        Chai   \n",
      "\n",
      "   SupplierID  CategoryID     QuantityPerUnit  UnitPrice_y  UnitsInStock  \\\n",
      "0           1           1  10 boxes x 20 bags         18.0            39   \n",
      "1           1           1  10 boxes x 20 bags         18.0            39   \n",
      "2           1           1  10 boxes x 20 bags         18.0            39   \n",
      "3           1           1  10 boxes x 20 bags         18.0            39   \n",
      "4           1           1  10 boxes x 20 bags         18.0            39   \n",
      "\n",
      "   UnitsOnOrder  ReorderLevel  Discontinued  Total_amount  \n",
      "0             0            10         False    518.399998  \n",
      "1             0            10         False    259.200000  \n",
      "2             0            10         False    288.000000  \n",
      "3             0            10         False    183.599999  \n",
      "4             0            10         False    172.800000  \n"
     ]
    }
   ],
   "source": [
    "print(df.head())\n"
   ]
  },
  {
   "cell_type": "code",
   "execution_count": 72,
   "id": "1c0dd298-0283-4a93-bab0-c852cdb6bb21",
   "metadata": {},
   "outputs": [],
   "source": [
    "df = df[['OrderID','ProductID','ProductName','UnitPrice_x','Quantity','Discount','Total_amount']]"
   ]
  },
  {
   "cell_type": "code",
   "execution_count": 73,
   "id": "26f62eee-b8c9-40a3-90db-c253261a8d03",
   "metadata": {},
   "outputs": [
    {
     "name": "stdout",
     "output_type": "stream",
     "text": [
      "<class 'pandas.core.frame.DataFrame'>\n",
      "RangeIndex: 2086 entries, 0 to 2085\n",
      "Data columns (total 7 columns):\n",
      " #   Column        Non-Null Count  Dtype  \n",
      "---  ------        --------------  -----  \n",
      " 0   OrderID       2086 non-null   int64  \n",
      " 1   ProductID     2086 non-null   int64  \n",
      " 2   ProductName   2086 non-null   object \n",
      " 3   UnitPrice_x   2086 non-null   float64\n",
      " 4   Quantity      2086 non-null   int64  \n",
      " 5   Discount      2086 non-null   float64\n",
      " 6   Total_amount  2086 non-null   float64\n",
      "dtypes: float64(3), int64(3), object(1)\n",
      "memory usage: 114.2+ KB\n",
      "None\n",
      "   OrderID  ProductID ProductName  UnitPrice_x  Quantity  Discount  \\\n",
      "0    10285          1        Chai         14.4        45      0.20   \n",
      "1    10294          1        Chai         14.4        18      0.00   \n",
      "2    10317          1        Chai         14.4        20      0.00   \n",
      "3    10348          1        Chai         14.4        15      0.15   \n",
      "4    10354          1        Chai         14.4        12      0.00   \n",
      "\n",
      "   Total_amount  \n",
      "0    518.399998  \n",
      "1    259.200000  \n",
      "2    288.000000  \n",
      "3    183.599999  \n",
      "4    172.800000  \n"
     ]
    }
   ],
   "source": [
    "print(df.info())\n",
    "print(df.head())"
   ]
  },
  {
   "cell_type": "markdown",
   "id": "cc8717ef-fd39-4486-a54a-aa20de3f5713",
   "metadata": {},
   "source": [
    "Average price of the products"
   ]
  },
  {
   "cell_type": "code",
   "execution_count": 78,
   "id": "811ceffc-0ed6-4cea-8e54-37c64a8f8fc3",
   "metadata": {},
   "outputs": [
    {
     "name": "stdout",
     "output_type": "stream",
     "text": [
      "avg_price =  25.964098753595398\n"
     ]
    }
   ],
   "source": [
    "avg_unitprice=df['UnitPrice_x'].mean()\n",
    "print('avg_price = ',avg_unitprice)"
   ]
  },
  {
   "cell_type": "markdown",
   "id": "b93c690f-71de-4bd9-ab32-88d0c1456c53",
   "metadata": {},
   "source": [
    "Total amount generated from these orders "
   ]
  },
  {
   "cell_type": "code",
   "execution_count": 80,
   "id": "7d1d829d-8716-4305-9dca-b687bafe3cca",
   "metadata": {},
   "outputs": [
    {
     "name": "stdout",
     "output_type": "stream",
     "text": [
      "total = 1222636.9233361713\n"
     ]
    }
   ],
   "source": [
    "total = df['Total_amount'].sum()\n",
    "print('total =',total)"
   ]
  },
  {
   "cell_type": "code",
   "execution_count": 85,
   "id": "84f535be-d29a-4009-bc70-308d8159ed0c",
   "metadata": {},
   "outputs": [
    {
     "name": "stdout",
     "output_type": "stream",
     "text": [
      "total Orders = 2086\n"
     ]
    }
   ],
   "source": [
    "total_orders=df['OrderID'].count()\n",
    "print('total Orders =',total_orders)"
   ]
  },
  {
   "cell_type": "code",
   "execution_count": 96,
   "id": "a4373d30-3135-48f0-95c3-6d7e3b9b0f85",
   "metadata": {},
   "outputs": [
    {
     "name": "stdout",
     "output_type": "stream",
     "text": [
      "ProductName\n",
      "Alice Mutton         37\n",
      "Aniseed Syrup        12\n",
      "Boston Crab Meat     41\n",
      "Camembert Pierrot    51\n",
      "Carnarvon Tigers      9\n",
      "Name: ProductID, dtype: int64\n"
     ]
    }
   ],
   "source": [
    "group_products = df.groupby('ProductName')['ProductID'].count()\n",
    "print(group_products.head(5))"
   ]
  },
  {
   "cell_type": "code",
   "execution_count": 94,
   "id": "89d9d313-975a-48eb-a56d-030a74351764",
   "metadata": {},
   "outputs": [
    {
     "name": "stdout",
     "output_type": "stream",
     "text": [
      "ProductName\n",
      "Raclette Courdavault               54\n",
      "Gorgonzola Telino                  51\n",
      "Camembert Pierrot                  51\n",
      "Guaraná Fantástica                 51\n",
      "Gnocchi di nonna Alice             50\n",
      "Tarte au sucre                     48\n",
      "Jack's New England Clam Chowder    47\n",
      "Rhönbräu Klosterbier               46\n",
      "Chang                              44\n",
      "Pavlova                            43\n",
      "Name: ProductID, dtype: int64\n"
     ]
    }
   ],
   "source": [
    "sorted_sales = group_products.sort_values(ascending=False)\n",
    "print(sorted_sales.head(10))"
   ]
  },
  {
   "cell_type": "code",
   "execution_count": 95,
   "id": "6b968f43-cb78-47de-819a-69a485eca93f",
   "metadata": {},
   "outputs": [
    {
     "name": "stdout",
     "output_type": "stream",
     "text": [
      "ProductName\n",
      "Mishi Kobe Niku               5\n",
      "Chocolade                     6\n",
      "Gravad lax                    6\n",
      "Genen Shouyu                  6\n",
      "Louisiana Hot Spiced Okra     8\n",
      "Schoggi Schokolade            9\n",
      "Carnarvon Tigers              9\n",
      "Chef Anton's Gumbo Mix       10\n",
      "Laughing Lumberjack Lager    10\n",
      "Valkoinen suklaa             10\n",
      "Name: ProductID, dtype: int64\n"
     ]
    }
   ],
   "source": [
    "sorted_sales = group_products.sort_values(ascending=True)\n",
    "print(sorted_sales.head(10))"
   ]
  },
  {
   "cell_type": "code",
   "execution_count": 100,
   "id": "c45c83e0-f3be-47f2-8d3a-5cd41c878040",
   "metadata": {},
   "outputs": [
    {
     "name": "stdout",
     "output_type": "stream",
     "text": [
      "minimum discount is = 0.0\n",
      "maximum discount is = 0.25\n"
     ]
    }
   ],
   "source": [
    "min_discount =df['Discount'].min()\n",
    "max_discount=df['Discount'].max()\n",
    "print(\"minimum discount is =\",min_discount)\n",
    "print(\"maximum discount is =\",max_discount)\n",
    "\n"
   ]
  },
  {
   "cell_type": "code",
   "execution_count": 118,
   "id": "a2e6f0dc-40cf-4c42-93f5-fc8b3714dae6",
   "metadata": {},
   "outputs": [
    {
     "name": "stdout",
     "output_type": "stream",
     "text": [
      "expencive product is = Côte de Blaye 263.5 $\n",
      "inexpencive product is = Geitost 2.0 $\n"
     ]
    }
   ],
   "source": [
    "exp_product=df.loc[df['UnitPrice_x'].idxmax()]\n",
    "inexp_product=df.loc[df['UnitPrice_x'].idxmin()]\n",
    "print(f'expencive product is =',exp_product['ProductName'],exp_product['UnitPrice_x'],'$')\n",
    "print(f'inexpencive product is =',inexp_product['ProductName'],inexp_product['UnitPrice_x'],'$')\n",
    "\n",
    "\n"
   ]
  },
  {
   "cell_type": "code",
   "execution_count": 119,
   "id": "56afbc1e-8b39-4b37-b8d1-eb9f15e5953d",
   "metadata": {},
   "outputs": [
    {
     "name": "stdout",
     "output_type": "stream",
     "text": [
      "the expencive order is = OrderID                 10981\n",
      "ProductID                  38\n",
      "ProductName     Côte de Blaye\n",
      "UnitPrice_x             263.5\n",
      "Quantity                   60\n",
      "Discount                  0.0\n",
      "Total_amount          15810.0\n",
      "Name: 919, dtype: object\n"
     ]
    }
   ],
   "source": [
    "expencive_order = df.loc[df['Total_amount'].idxmax()]\n",
    "print('the expencive order is =',expencive_order)"
   ]
  },
  {
   "cell_type": "code",
   "execution_count": 120,
   "id": "8fc15351-0138-4064-aef1-7267aabf2ee4",
   "metadata": {},
   "outputs": [
    {
     "name": "stdout",
     "output_type": "stream",
     "text": [
      "the inexpencive order is = OrderID         10462\n",
      "ProductID          13\n",
      "ProductName     Konbu\n",
      "UnitPrice_x       4.8\n",
      "Quantity            1\n",
      "Discount          0.0\n",
      "Total_amount      4.8\n",
      "Name: 242, dtype: object\n"
     ]
    }
   ],
   "source": [
    "inexpencive_order = df.loc[df['Total_amount'].idxmin()]\n",
    "print('the inexpencive order is =',inexpencive_order)"
   ]
  },
  {
   "cell_type": "markdown",
   "id": "708e8af5-4859-4e58-9fe3-dc8e98b54a3a",
   "metadata": {},
   "source": [
    "**Summary:**"
   ]
  },
  {
   "cell_type": "markdown",
   "id": "d0aa8263-2505-4313-9544-2d95fc68633a",
   "metadata": {},
   "source": [
    "The analysis identified **'Côte de Blaye'** as the most expensive product, priced at $263.50 per unit."
   ]
  },
  {
   "cell_type": "markdown",
   "id": "d86d32bb-938d-40d7-8de0-bf5c8b710eae",
   "metadata": {},
   "source": [
    "The highest-value order consisted of 60 units of -**'Côte de Blaye,'** resulting in a total order value of $15,810.00."
   ]
  },
  {
   "cell_type": "code",
   "execution_count": null,
   "id": "6c17475e-cd67-45c5-8226-1167db3ba933",
   "metadata": {},
   "outputs": [],
   "source": []
  }
 ],
 "metadata": {
  "kernelspec": {
   "display_name": "Python 3 (ipykernel)",
   "language": "python",
   "name": "python3"
  },
  "language_info": {
   "codemirror_mode": {
    "name": "ipython",
    "version": 3
   },
   "file_extension": ".py",
   "mimetype": "text/x-python",
   "name": "python",
   "nbconvert_exporter": "python",
   "pygments_lexer": "ipython3",
   "version": "3.13.0"
  }
 },
 "nbformat": 4,
 "nbformat_minor": 5
}
